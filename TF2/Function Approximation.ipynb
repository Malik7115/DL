{
 "cells": [
  {
   "cell_type": "code",
   "execution_count": 1,
   "metadata": {},
   "outputs": [],
   "source": [
    "import tensorflow as tf\n",
    "import numpy as np\n",
    "import matplotlib.pyplot as plt\n",
    "from matplotlib.animation import FuncAnimation\n",
    "from tensorflow.keras.layers import Dense, Activation\n",
    "from tensorflow.keras import Sequential\n",
    "from tensorflow.keras import losses"
   ]
  },
  {
   "cell_type": "code",
   "execution_count": 2,
   "metadata": {},
   "outputs": [
    {
     "data": {
      "text/plain": [
       "tf.float32"
      ]
     },
     "execution_count": 2,
     "metadata": {},
     "output_type": "execute_result"
    }
   ],
   "source": [
    "x = tf.linspace(-1.0, 1.0, 100) \n",
    "y = tf.math.pow(x,2)+ 0.2*(tf.random.uniform(x.shape,maxval=1,seed=42))\n",
    "y.dtype"
   ]
  },
  {
   "cell_type": "code",
   "execution_count": 3,
   "metadata": {},
   "outputs": [
    {
     "data": {
      "image/png": "[encoded data removed]",
      "text/plain": [
       "<Figure size 720x288 with 1 Axes>"
      ]
     },
     "metadata": {
      "needs_background": "light"
     },
     "output_type": "display_data"
    }
   ],
   "source": [
    "plt.figure(figsize=(10,4))\n",
    "plt.scatter(x, y, color = \"orange\")\n",
    "plt.title('Regression Analysis')\n",
    "plt.xlabel('Independent varible')\n",
    "plt.ylabel('Dependent varible')\n",
    "plt.show()"
   ]
  },
  {
   "cell_type": "code",
   "execution_count": 4,
   "metadata": {},
   "outputs": [
    {
     "data": {
      "text/plain": [
       "TensorShape([100, 1])"
      ]
     },
     "execution_count": 4,
     "metadata": {},
     "output_type": "execute_result"
    }
   ],
   "source": [
    "x = tf.expand_dims(x,1)\n",
    "y = tf.expand_dims(y,1)\n",
    "y.shape"
   ]
  },
  {
   "cell_type": "code",
   "execution_count": 5,
   "metadata": {},
   "outputs": [],
   "source": [
    "model = Sequential([\n",
    "    Dense(150, input_dim = 1),\n",
    "    Activation('relu'),\n",
    "    Dense(1)\n",
    "])\n"
   ]
  },
  {
   "cell_type": "code",
   "execution_count": 6,
   "metadata": {},
   "outputs": [
    {
     "name": "stdout",
     "output_type": "stream",
     "text": [
      "Model: \"sequential\"\n",
      "_________________________________________________________________\n",
      "Layer (type)                 Output Shape              Param #   \n",
      "=================================================================\n",
      "dense (Dense)                (None, 150)               300       \n",
      "_________________________________________________________________\n",
      "activation (Activation)      (None, 150)               0         \n",
      "_________________________________________________________________\n",
      "dense_1 (Dense)              (None, 1)                 151       \n",
      "=================================================================\n",
      "Total params: 451\n",
      "Trainable params: 451\n",
      "Non-trainable params: 0\n",
      "_________________________________________________________________\n"
     ]
    }
   ],
   "source": [
    "model.compile(optimizer = 'Adam',loss = 'mse')\n",
    "model.summary()"
   ]
  },
  {
   "cell_type": "code",
   "execution_count": 7,
   "metadata": {},
   "outputs": [
    {
     "name": "stdout",
     "output_type": "stream",
     "text": [
      "Train on 100 samples\n",
      "Epoch 1/100\n",
      "100/100 [==============================] - 1s 5ms/sample - loss: 0.3343\n",
      "Epoch 2/100\n",
      "100/100 [==============================] - 0s 228us/sample - loss: 0.2869\n",
      "Epoch 3/100\n",
      "100/100 [==============================] - 0s 168us/sample - loss: 0.2447\n",
      "Epoch 4/100\n",
      "100/100 [==============================] - 0s 219us/sample - loss: 0.2093\n",
      "Epoch 5/100\n",
      "100/100 [==============================] - 0s 148us/sample - loss: 0.1775\n",
      "Epoch 6/100\n",
      "100/100 [==============================] - 0s 268us/sample - loss: 0.1503\n",
      "Epoch 7/100\n",
      "100/100 [==============================] - 0s 207us/sample - loss: 0.1282\n",
      "Epoch 8/100\n",
      "100/100 [==============================] - 0s 223us/sample - loss: 0.1086\n",
      "Epoch 9/100\n",
      "100/100 [==============================] - 0s 271us/sample - loss: 0.0934\n",
      "Epoch 10/100\n",
      "100/100 [==============================] - 0s 250us/sample - loss: 0.0807\n",
      "Epoch 11/100\n",
      "100/100 [==============================] - 0s 275us/sample - loss: 0.0717\n",
      "Epoch 12/100\n",
      "100/100 [==============================] - 0s 190us/sample - loss: 0.0651\n",
      "Epoch 13/100\n",
      "100/100 [==============================] - 0s 243us/sample - loss: 0.0588\n",
      "Epoch 14/100\n",
      "100/100 [==============================] - 0s 245us/sample - loss: 0.0541\n",
      "Epoch 15/100\n",
      "100/100 [==============================] - 0s 178us/sample - loss: 0.0511\n",
      "Epoch 16/100\n",
      "100/100 [==============================] - 0s 179us/sample - loss: 0.0480\n",
      "Epoch 17/100\n",
      "100/100 [==============================] - 0s 156us/sample - loss: 0.0456\n",
      "Epoch 18/100\n",
      "100/100 [==============================] - 0s 271us/sample - loss: 0.0435\n",
      "Epoch 19/100\n",
      "100/100 [==============================] - 0s 309us/sample - loss: 0.0413\n",
      "Epoch 20/100\n",
      "100/100 [==============================] - 0s 233us/sample - loss: 0.0394\n",
      "Epoch 21/100\n",
      "100/100 [==============================] - 0s 197us/sample - loss: 0.0377\n",
      "Epoch 22/100\n",
      "100/100 [==============================] - 0s 218us/sample - loss: 0.0360\n",
      "Epoch 23/100\n",
      "100/100 [==============================] - 0s 218us/sample - loss: 0.0344\n",
      "Epoch 24/100\n",
      "100/100 [==============================] - 0s 156us/sample - loss: 0.0330\n",
      "Epoch 25/100\n",
      "100/100 [==============================] - 0s 242us/sample - loss: 0.0317\n",
      "Epoch 26/100\n",
      "100/100 [==============================] - 0s 250us/sample - loss: 0.0305\n",
      "Epoch 27/100\n",
      "100/100 [==============================] - 0s 247us/sample - loss: 0.0294\n",
      "Epoch 28/100\n",
      "100/100 [==============================] - 0s 193us/sample - loss: 0.0283\n",
      "Epoch 29/100\n",
      "100/100 [==============================] - 0s 105us/sample - loss: 0.0274\n",
      "Epoch 30/100\n",
      "100/100 [==============================] - 0s 213us/sample - loss: 0.0264\n",
      "Epoch 31/100\n",
      "100/100 [==============================] - 0s 166us/sample - loss: 0.0255\n",
      "Epoch 32/100\n",
      "100/100 [==============================] - 0s 237us/sample - loss: 0.0247\n",
      "Epoch 33/100\n",
      "100/100 [==============================] - 0s 219us/sample - loss: 0.0239\n",
      "Epoch 34/100\n",
      "100/100 [==============================] - 0s 232us/sample - loss: 0.0231\n",
      "Epoch 35/100\n",
      "100/100 [==============================] - 0s 166us/sample - loss: 0.0225\n",
      "Epoch 36/100\n",
      "100/100 [==============================] - 0s 245us/sample - loss: 0.0218\n",
      "Epoch 37/100\n",
      "100/100 [==============================] - 0s 303us/sample - loss: 0.0212\n",
      "Epoch 38/100\n",
      "100/100 [==============================] - 0s 186us/sample - loss: 0.0207\n",
      "Epoch 39/100\n",
      "100/100 [==============================] - 0s 156us/sample - loss: 0.0201\n",
      "Epoch 40/100\n",
      "100/100 [==============================] - 0s 204us/sample - loss: 0.0196\n",
      "Epoch 41/100\n",
      "100/100 [==============================] - 0s 311us/sample - loss: 0.0192\n",
      "Epoch 42/100\n",
      "100/100 [==============================] - 0s 231us/sample - loss: 0.0187\n",
      "Epoch 43/100\n",
      "100/100 [==============================] - 0s 180us/sample - loss: 0.0183\n",
      "Epoch 44/100\n",
      "100/100 [==============================] - 0s 195us/sample - loss: 0.0179\n",
      "Epoch 45/100\n",
      "100/100 [==============================] - 0s 350us/sample - loss: 0.0175\n",
      "Epoch 46/100\n",
      "100/100 [==============================] - 0s 161us/sample - loss: 0.0171\n",
      "Epoch 47/100\n",
      "100/100 [==============================] - 0s 202us/sample - loss: 0.0168\n",
      "Epoch 48/100\n",
      "100/100 [==============================] - 0s 207us/sample - loss: 0.0164\n",
      "Epoch 49/100\n",
      "100/100 [==============================] - 0s 227us/sample - loss: 0.0162\n",
      "Epoch 50/100\n",
      "100/100 [==============================] - 0s 220us/sample - loss: 0.0158\n",
      "Epoch 51/100\n",
      "100/100 [==============================] - 0s 238us/sample - loss: 0.0156\n",
      "Epoch 52/100\n",
      "100/100 [==============================] - 0s 209us/sample - loss: 0.0153\n",
      "Epoch 53/100\n",
      "100/100 [==============================] - 0s 159us/sample - loss: 0.0150\n",
      "Epoch 54/100\n",
      "100/100 [==============================] - 0s 140us/sample - loss: 0.0148\n",
      "Epoch 55/100\n",
      "100/100 [==============================] - 0s 122us/sample - loss: 0.0145\n",
      "Epoch 56/100\n",
      "100/100 [==============================] - 0s 225us/sample - loss: 0.0143\n",
      "Epoch 57/100\n",
      "100/100 [==============================] - 0s 225us/sample - loss: 0.0140\n",
      "Epoch 58/100\n",
      "100/100 [==============================] - 0s 195us/sample - loss: 0.0138\n",
      "Epoch 59/100\n",
      "100/100 [==============================] - 0s 149us/sample - loss: 0.0136\n",
      "Epoch 60/100\n",
      "100/100 [==============================] - 0s 179us/sample - loss: 0.0134\n",
      "Epoch 61/100\n",
      "100/100 [==============================] - 0s 150us/sample - loss: 0.0132\n",
      "Epoch 62/100\n",
      "100/100 [==============================] - 0s 173us/sample - loss: 0.0130\n",
      "Epoch 63/100\n",
      "100/100 [==============================] - 0s 185us/sample - loss: 0.0128\n",
      "Epoch 64/100\n",
      "100/100 [==============================] - 0s 222us/sample - loss: 0.0127\n",
      "Epoch 65/100\n",
      "100/100 [==============================] - 0s 133us/sample - loss: 0.0124\n",
      "Epoch 66/100\n",
      "100/100 [==============================] - 0s 179us/sample - loss: 0.0123\n",
      "Epoch 67/100\n",
      "100/100 [==============================] - 0s 207us/sample - loss: 0.0121\n",
      "Epoch 68/100\n",
      "100/100 [==============================] - 0s 193us/sample - loss: 0.0120\n",
      "Epoch 69/100\n",
      "100/100 [==============================] - 0s 115us/sample - loss: 0.0118\n",
      "Epoch 70/100\n",
      "100/100 [==============================] - 0s 177us/sample - loss: 0.0116\n",
      "Epoch 71/100\n",
      "100/100 [==============================] - 0s 147us/sample - loss: 0.0115\n",
      "Epoch 72/100\n",
      "100/100 [==============================] - 0s 145us/sample - loss: 0.0113\n",
      "Epoch 73/100\n",
      "100/100 [==============================] - 0s 238us/sample - loss: 0.0112\n",
      "Epoch 74/100\n",
      "100/100 [==============================] - 0s 158us/sample - loss: 0.0110\n",
      "Epoch 75/100\n",
      "100/100 [==============================] - 0s 207us/sample - loss: 0.0109\n",
      "Epoch 76/100\n",
      "100/100 [==============================] - 0s 130us/sample - loss: 0.0108\n",
      "Epoch 77/100\n",
      "100/100 [==============================] - 0s 174us/sample - loss: 0.0106\n",
      "Epoch 78/100\n",
      "100/100 [==============================] - 0s 175us/sample - loss: 0.0105\n",
      "Epoch 79/100\n",
      "100/100 [==============================] - 0s 170us/sample - loss: 0.0104\n",
      "Epoch 80/100\n",
      "100/100 [==============================] - 0s 158us/sample - loss: 0.0102\n",
      "Epoch 81/100\n",
      "100/100 [==============================] - 0s 208us/sample - loss: 0.0101\n",
      "Epoch 82/100\n",
      "100/100 [==============================] - 0s 146us/sample - loss: 0.0100\n",
      "Epoch 83/100\n",
      "100/100 [==============================] - 0s 127us/sample - loss: 0.0099\n",
      "Epoch 84/100\n",
      "100/100 [==============================] - 0s 199us/sample - loss: 0.0098\n",
      "Epoch 85/100\n",
      "100/100 [==============================] - 0s 170us/sample - loss: 0.0097\n",
      "Epoch 86/100\n",
      "100/100 [==============================] - 0s 172us/sample - loss: 0.0096\n",
      "Epoch 87/100\n",
      "100/100 [==============================] - 0s 192us/sample - loss: 0.0095\n",
      "Epoch 88/100\n",
      "100/100 [==============================] - 0s 254us/sample - loss: 0.0094\n",
      "Epoch 89/100\n",
      "100/100 [==============================] - 0s 159us/sample - loss: 0.0093\n",
      "Epoch 90/100\n",
      "100/100 [==============================] - 0s 122us/sample - loss: 0.0092\n",
      "Epoch 91/100\n",
      "100/100 [==============================] - 0s 123us/sample - loss: 0.0091\n",
      "Epoch 92/100\n",
      "100/100 [==============================] - 0s 183us/sample - loss: 0.0090\n",
      "Epoch 93/100\n",
      "100/100 [==============================] - 0s 161us/sample - loss: 0.0089\n",
      "Epoch 94/100\n",
      "100/100 [==============================] - 0s 176us/sample - loss: 0.0088\n",
      "Epoch 95/100\n"
     ]
    },
    {
     "name": "stdout",
     "output_type": "stream",
     "text": [
      "100/100 [==============================] - 0s 135us/sample - loss: 0.0087\n",
      "Epoch 96/100\n",
      "100/100 [==============================] - 0s 218us/sample - loss: 0.0087\n",
      "Epoch 97/100\n",
      "100/100 [==============================] - 0s 200us/sample - loss: 0.0086\n",
      "Epoch 98/100\n",
      "100/100 [==============================] - 0s 145us/sample - loss: 0.0085\n",
      "Epoch 99/100\n",
      "100/100 [==============================] - 0s 149us/sample - loss: 0.0084\n",
      "Epoch 100/100\n",
      "100/100 [==============================] - 0s 118us/sample - loss: 0.0083\n"
     ]
    },
    {
     "data": {
      "text/plain": [
       "<tensorflow.python.keras.callbacks.History at 0x7f9b982bdeb8>"
      ]
     },
     "execution_count": 7,
     "metadata": {},
     "output_type": "execute_result"
    }
   ],
   "source": [
    "model.fit(x,y,epochs=100, batch_size=40, verbose=1)"
   ]
  },
  {
   "cell_type": "code",
   "execution_count": 8,
   "metadata": {},
   "outputs": [],
   "source": [
    "classes = model.predict(x,batch_size = 1)"
   ]
  },
  {
   "cell_type": "code",
   "execution_count": 9,
   "metadata": {},
   "outputs": [
    {
     "data": {
      "text/plain": [
       "TensorShape([100])"
      ]
     },
     "execution_count": 9,
     "metadata": {},
     "output_type": "execute_result"
    }
   ],
   "source": [
    "test = tf.squeeze(x)\n",
    "test.shape"
   ]
  },
  {
   "cell_type": "code",
   "execution_count": 10,
   "metadata": {},
   "outputs": [
    {
     "data": {
      "text/plain": [
       "<tf.Tensor: id=1410, shape=(100,), dtype=float32, numpy=\n",
       "array([-1.        , -0.97979796, -0.959596  , -0.93939394, -0.9191919 ,\n",
       "       -0.8989899 , -0.8787879 , -0.85858583, -0.83838385, -0.8181818 ,\n",
       "       -0.79797983, -0.7777778 , -0.75757575, -0.7373737 , -0.7171717 ,\n",
       "       -0.6969697 , -0.6767677 , -0.65656567, -0.6363636 , -0.6161616 ,\n",
       "       -0.5959596 , -0.57575756, -0.5555556 , -0.53535354, -0.5151515 ,\n",
       "       -0.49494952, -0.47474748, -0.45454544, -0.43434346, -0.41414142,\n",
       "       -0.39393938, -0.3737374 , -0.35353535, -0.3333333 , -0.31313133,\n",
       "       -0.2929293 , -0.27272725, -0.25252527, -0.23232323, -0.21212119,\n",
       "       -0.19191921, -0.17171717, -0.15151513, -0.13131315, -0.1111111 ,\n",
       "       -0.09090906, -0.07070708, -0.05050504, -0.030303  , -0.01010102,\n",
       "        0.01010096,  0.030303  ,  0.05050504,  0.07070708,  0.09090912,\n",
       "        0.11111116,  0.13131309,  0.15151513,  0.17171717,  0.19191921,\n",
       "        0.21212125,  0.23232329,  0.2525252 ,  0.27272725,  0.2929293 ,\n",
       "        0.31313133,  0.33333337,  0.3535353 ,  0.37373734,  0.39393938,\n",
       "        0.41414142,  0.43434346,  0.4545455 ,  0.47474742,  0.49494946,\n",
       "        0.5151515 ,  0.53535354,  0.5555556 ,  0.5757576 ,  0.59595954,\n",
       "        0.6161616 ,  0.6363636 ,  0.65656567,  0.6767677 ,  0.69696975,\n",
       "        0.71717167,  0.7373737 ,  0.75757575,  0.7777778 ,  0.79797983,\n",
       "        0.8181819 ,  0.8383838 ,  0.85858583,  0.8787879 ,  0.8989899 ,\n",
       "        0.91919196,  0.939394  ,  0.9595959 ,  0.97979796,  1.        ],\n",
       "      dtype=float32)>"
      ]
     },
     "execution_count": 10,
     "metadata": {},
     "output_type": "execute_result"
    }
   ],
   "source": [
    "test"
   ]
  },
  {
   "cell_type": "code",
   "execution_count": 11,
   "metadata": {},
   "outputs": [
    {
     "data": {
      "image/png": "[encoded data removed]",
      "text/plain": [
       "<Figure size 432x288 with 1 Axes>"
      ]
     },
     "metadata": {
      "needs_background": "light"
     },
     "output_type": "display_data"
    }
   ],
   "source": [
    "plt.plot(tf.linspace(-1.0, 1.0, 100) ,classes,c='b')\n",
    "plt.scatter(tf.linspace(-1.0, 1.0, 100), y, color = \"orange\")\n",
    "plt.show()"
   ]
  },
  {
   "cell_type": "code",
   "execution_count": null,
   "metadata": {},
   "outputs": [],
   "source": []
  }
 ],
 "metadata": {
  "kernelspec": {
   "display_name": "Python 3",
   "language": "python",
   "name": "python3"
  },
  "language_info": {
   "codemirror_mode": {
    "name": "ipython",
    "version": 3
   },
   "file_extension": ".py",
   "mimetype": "text/x-python",
   "name": "python",
   "nbconvert_exporter": "python",
   "pygments_lexer": "ipython3",
   "version": "3.6.8"
  }
 },
 "nbformat": 4,
 "nbformat_minor": 2
}
