{
 "cells": [
  {
   "cell_type": "code",
   "execution_count": 1,
   "metadata": {},
   "outputs": [],
   "source": [
    "import tensorflow as tf\n",
    "import numpy as np\n",
    "import matplotlib.pyplot as plt\n",
    "from matplotlib.animation import FuncAnimation\n",
    "from tensorflow.keras.layers import Dense, Activation\n",
    "from tensorflow.keras import Sequential\n",
    "from tensorflow.keras import losses"
   ]
  },
  {
   "cell_type": "code",
   "execution_count": 2,
   "metadata": {},
   "outputs": [
    {
     "data": {
      "text/plain": [
       "(9000,)"
      ]
     },
     "execution_count": 2,
     "metadata": {},
     "output_type": "execute_result"
    }
   ],
   "source": [
    "x_train=np.random.rand(9000)\n",
    "x_train.shape"
   ]
  },
  {
   "cell_type": "code",
   "execution_count": 3,
   "metadata": {},
   "outputs": [
    {
     "data": {
      "text/plain": [
       "array([ 0.93308854, -0.21019607, -0.30203353, ..., -0.31788248,\n",
       "       -0.09472213, -0.28992846])"
      ]
     },
     "execution_count": 3,
     "metadata": {},
     "output_type": "execute_result"
    }
   ],
   "source": [
    "y_train=x_train**4+x_train**3-x_train\n",
    "y_train"
   ]
  },
  {
   "cell_type": "code",
   "execution_count": 4,
   "metadata": {},
   "outputs": [
    {
     "data": {
      "text/plain": [
       "(100,)"
      ]
     },
     "execution_count": 4,
     "metadata": {},
     "output_type": "execute_result"
    }
   ],
   "source": [
    "x_test=np.linspace(0,1,100)\n",
    "y_test=x_test**4+x_test**3-x_test\n",
    "x_test.shape"
   ]
  },
  {
   "cell_type": "code",
   "execution_count": 5,
   "metadata": {},
   "outputs": [
    {
     "data": {
      "text/plain": [
       "(100, 1)"
      ]
     },
     "execution_count": 5,
     "metadata": {},
     "output_type": "execute_result"
    }
   ],
   "source": [
    "x_test=x_test.reshape(len(x_test),1)\n",
    "x_test.shape"
   ]
  },
  {
   "cell_type": "code",
   "execution_count": 6,
   "metadata": {},
   "outputs": [],
   "source": [
    "model = Sequential()\n",
    "model.add(Dense(units=200, input_dim=1))\n",
    "model.add(Activation('relu'))\n",
    "model.add(Dense(units=45))\n",
    "model.add(Activation('relu'))\n",
    "model.add(Dense(units=1))"
   ]
  },
  {
   "cell_type": "code",
   "execution_count": 13,
   "metadata": {},
   "outputs": [
    {
     "name": "stdout",
     "output_type": "stream",
     "text": [
      "Model: \"sequential\"\n",
      "_________________________________________________________________\n",
      "Layer (type)                 Output Shape              Param #   \n",
      "=================================================================\n",
      "dense (Dense)                (None, 200)               400       \n",
      "_________________________________________________________________\n",
      "activation (Activation)      (None, 200)               0         \n",
      "_________________________________________________________________\n",
      "dense_1 (Dense)              (None, 45)                9045      \n",
      "_________________________________________________________________\n",
      "activation_1 (Activation)    (None, 45)                0         \n",
      "_________________________________________________________________\n",
      "dense_2 (Dense)              (None, 1)                 46        \n",
      "=================================================================\n",
      "Total params: 9,491\n",
      "Trainable params: 9,491\n",
      "Non-trainable params: 0\n",
      "_________________________________________________________________\n"
     ]
    }
   ],
   "source": [
    "model.compile(loss='mean_squared_error',\n",
    "              optimizer='sgd')\n",
    "model.summary()"
   ]
  },
  {
   "cell_type": "code",
   "execution_count": 8,
   "metadata": {},
   "outputs": [
    {
     "name": "stdout",
     "output_type": "stream",
     "text": [
      "Train on 9000 samples\n",
      "Epoch 1/40\n",
      "9000/9000 [==============================] - 1s 93us/sample - loss: 0.0851\n",
      "Epoch 2/40\n",
      "9000/9000 [==============================] - 0s 38us/sample - loss: 0.0632\n",
      "Epoch 3/40\n",
      "9000/9000 [==============================] - 0s 34us/sample - loss: 0.0497\n",
      "Epoch 4/40\n",
      "9000/9000 [==============================] - 0s 38us/sample - loss: 0.0397\n",
      "Epoch 5/40\n",
      "9000/9000 [==============================] - 0s 43us/sample - loss: 0.0320\n",
      "Epoch 6/40\n",
      "9000/9000 [==============================] - 0s 41us/sample - loss: 0.0259\n",
      "Epoch 7/40\n",
      "9000/9000 [==============================] - 0s 36us/sample - loss: 0.0211\n",
      "Epoch 8/40\n",
      "9000/9000 [==============================] - 0s 38us/sample - loss: 0.0173\n",
      "Epoch 9/40\n",
      "9000/9000 [==============================] - 0s 34us/sample - loss: 0.0143\n",
      "Epoch 10/40\n",
      "9000/9000 [==============================] - 0s 39us/sample - loss: 0.0119\n",
      "Epoch 11/40\n",
      "9000/9000 [==============================] - 0s 43us/sample - loss: 0.0100\n",
      "Epoch 12/40\n",
      "9000/9000 [==============================] - 0s 37us/sample - loss: 0.0085\n",
      "Epoch 13/40\n",
      "9000/9000 [==============================] - 0s 36us/sample - loss: 0.0073\n",
      "Epoch 14/40\n",
      "9000/9000 [==============================] - 0s 36us/sample - loss: 0.0064\n",
      "Epoch 15/40\n",
      "9000/9000 [==============================] - 0s 35us/sample - loss: 0.0056\n",
      "Epoch 16/40\n",
      "9000/9000 [==============================] - 0s 35us/sample - loss: 0.0049\n",
      "Epoch 17/40\n",
      "9000/9000 [==============================] - 0s 41us/sample - loss: 0.0044\n",
      "Epoch 18/40\n",
      "9000/9000 [==============================] - 0s 48us/sample - loss: 0.0040\n",
      "Epoch 19/40\n",
      "9000/9000 [==============================] - 0s 39us/sample - loss: 0.0036\n",
      "Epoch 20/40\n",
      "9000/9000 [==============================] - 0s 40us/sample - loss: 0.0032\n",
      "Epoch 21/40\n",
      "9000/9000 [==============================] - 0s 37us/sample - loss: 0.0029\n",
      "Epoch 22/40\n",
      "9000/9000 [==============================] - 0s 36us/sample - loss: 0.0027\n",
      "Epoch 23/40\n",
      "9000/9000 [==============================] - 0s 38us/sample - loss: 0.0024\n",
      "Epoch 24/40\n",
      "9000/9000 [==============================] - 0s 35us/sample - loss: 0.0022\n",
      "Epoch 25/40\n",
      "9000/9000 [==============================] - 0s 34us/sample - loss: 0.0021\n",
      "Epoch 26/40\n",
      "9000/9000 [==============================] - 0s 35us/sample - loss: 0.0019\n",
      "Epoch 27/40\n",
      "9000/9000 [==============================] - 1s 57us/sample - loss: 0.0017\n",
      "Epoch 28/40\n",
      "9000/9000 [==============================] - 0s 36us/sample - loss: 0.0016\n",
      "Epoch 29/40\n",
      "9000/9000 [==============================] - 0s 33us/sample - loss: 0.0015\n",
      "Epoch 30/40\n",
      "9000/9000 [==============================] - 0s 36us/sample - loss: 0.0014\n",
      "Epoch 31/40\n",
      "9000/9000 [==============================] - 0s 35us/sample - loss: 0.0013\n",
      "Epoch 32/40\n",
      "9000/9000 [==============================] - 0s 34us/sample - loss: 0.0012\n",
      "Epoch 33/40\n",
      "9000/9000 [==============================] - 0s 48us/sample - loss: 0.0011\n",
      "Epoch 34/40\n",
      "9000/9000 [==============================] - 0s 45us/sample - loss: 0.0011\n",
      "Epoch 35/40\n",
      "9000/9000 [==============================] - 0s 46us/sample - loss: 9.9242e-04\n",
      "Epoch 36/40\n",
      "9000/9000 [==============================] - 0s 42us/sample - loss: 9.3464e-04\n",
      "Epoch 37/40\n",
      "9000/9000 [==============================] - 0s 36us/sample - loss: 8.8167e-04\n",
      "Epoch 38/40\n",
      "9000/9000 [==============================] - 1s 66us/sample - loss: 8.3093e-04\n",
      "Epoch 39/40\n",
      "9000/9000 [==============================] - 0s 38us/sample - loss: 7.8486e-04\n",
      "Epoch 40/40\n",
      "9000/9000 [==============================] - 0s 39us/sample - loss: 7.4316e-04\n"
     ]
    },
    {
     "data": {
      "text/plain": [
       "<tensorflow.python.keras.callbacks.History at 0x7f3a983a5be0>"
      ]
     },
     "execution_count": 8,
     "metadata": {},
     "output_type": "execute_result"
    }
   ],
   "source": [
    "model.fit(x_train, y_train, epochs=40, batch_size=50, verbose=1)"
   ]
  },
  {
   "cell_type": "code",
   "execution_count": 9,
   "metadata": {},
   "outputs": [
    {
     "name": "stdout",
     "output_type": "stream",
     "text": [
      "\r",
      "100/1 [========================================================================================================================================================================================================================================================================================================================================================================================================================================================================================================================================================================================================================================================================================================================================================================================================================================================================================================================================================================================================================================================================================================================================================================================================================================================================================================================================================================================================================================================================================================================================================================================================================================================================================================================================================================================================================================================================================================================================================================================================================================================================================================================================================================================================================================================================================================================================================================================================================================================================================================================================================================================================================================================================================================================================================================================================================================================================================================================================================================================================================================================================================================================] - 0s 785us/sample - loss: 8.3186e-04\n"
     ]
    }
   ],
   "source": [
    "loss_and_metrics = model.evaluate(x_test, y_test, batch_size=100)"
   ]
  },
  {
   "cell_type": "code",
   "execution_count": 10,
   "metadata": {},
   "outputs": [],
   "source": [
    "classes = model.predict(x_test, batch_size=1)"
   ]
  },
  {
   "cell_type": "code",
   "execution_count": 11,
   "metadata": {},
   "outputs": [
    {
     "data": {
      "text/plain": [
       "(100,)"
      ]
     },
     "execution_count": 11,
     "metadata": {},
     "output_type": "execute_result"
    }
   ],
   "source": [
    "test=x_test.reshape(-1)\n",
    "test.shape"
   ]
  },
  {
   "cell_type": "code",
   "execution_count": 12,
   "metadata": {},
   "outputs": [
    {
     "data": {
      "image/png": "[encoded data removed]",
      "text/plain": [
       "<Figure size 432x288 with 1 Axes>"
      ]
     },
     "metadata": {
      "needs_background": "light"
     },
     "output_type": "display_data"
    }
   ],
   "source": [
    "plt.plot(test,classes,c='r')\n",
    "plt.plot(test,y_test,c='b')\n",
    "plt.show()"
   ]
  },
  {
   "cell_type": "code",
   "execution_count": null,
   "metadata": {},
   "outputs": [],
   "source": []
  }
 ],
 "metadata": {
  "kernelspec": {
   "display_name": "Python 3",
   "language": "python",
   "name": "python3"
  },
  "language_info": {
   "codemirror_mode": {
    "name": "ipython",
    "version": 3
   },
   "file_extension": ".py",
   "mimetype": "text/x-python",
   "name": "python",
   "nbconvert_exporter": "python",
   "pygments_lexer": "ipython3",
   "version": "3.6.8"
  }
 },
 "nbformat": 4,
 "nbformat_minor": 2
}
